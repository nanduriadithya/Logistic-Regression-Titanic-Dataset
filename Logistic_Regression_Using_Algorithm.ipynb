{
  "nbformat": 4,
  "nbformat_minor": 0,
  "metadata": {
    "colab": {
      "name": "Logistic Regression - Using Algorithm",
      "provenance": []
    },
    "kernelspec": {
      "name": "python3",
      "display_name": "Python 3"
    },
    "language_info": {
      "name": "python"
    }
  },
  "cells": [
    {
      "cell_type": "code",
      "execution_count": null,
      "metadata": {
        "id": "uF2mvLIfUGJd"
      },
      "outputs": [],
      "source": [
        "import numpy as np\n",
        "import pandas as pd\n",
        "import matplotlib.pyplot as plt\n",
        "import matplotlib.pyplot as plt\n",
        "from sklearn.preprocessing import LabelEncoder, StandardScaler"
      ]
    },
    {
      "cell_type": "code",
      "source": [
        "df_train = pd.read_csv('https://storage.googleapis.com/an-datasets/train.csv')\n",
        "df_eval = pd.read_csv('https://storage.googleapis.com/an-datasets/eval.csv')"
      ],
      "metadata": {
        "id": "xlSOIrt8UQPZ"
      },
      "execution_count": null,
      "outputs": []
    },
    {
      "cell_type": "code",
      "source": [
        "#Create the function to fit and transform the label encoder\n",
        "def label_encode_columns(df, columns):\n",
        "    encoders = {}\n",
        "    for col in columns:\n",
        "        le = LabelEncoder().fit(df[col])\n",
        "        df[col] = le.transform(df[col])\n",
        "        encoders[col] = le\n",
        "    return df, encoders\n",
        "\n",
        "#Create the function to take in the fitted encoders and transform the scoring dataset\n",
        "def label_encode_columns_w_fit_encoders(df, columns, encoders):\n",
        "    for col in columns:\n",
        "        le = encoders.get(col)\n",
        "        df[col] = le.transform(df[col])\n",
        "    return df\n",
        " \n",
        "#Define the columns we want to encode\n",
        "encode_columns = ['sex','class','deck','embark_town','alone']\n",
        " \n",
        "#Fit and transform the training dataset, returing both the new training dataset and the fitted encoders to use on the scoring dataset\n",
        "df_train, encoders = label_encode_columns(df=df_train, columns=encode_columns)\n",
        " \n",
        "#Transform the scoring dataset using the encoders we fit previously\n",
        "df_eval = label_encode_columns_w_fit_encoders(df=df_eval, columns=encode_columns, encoders=encoders)"
      ],
      "metadata": {
        "id": "2tQPwE19Vbfu"
      },
      "execution_count": null,
      "outputs": []
    },
    {
      "cell_type": "code",
      "source": [
        "train_data = df_train.values\n",
        "Y = train_data[:,0].reshape(train_data.shape[0],1)\n",
        "X = train_data[:,1:]\n",
        "\n",
        "eval_data = df_eval.values\n",
        "Y_Eval = eval_data[:,0].reshape(eval_data.shape[0],1)\n",
        "X_Eval = eval_data[:,1:]"
      ],
      "metadata": {
        "id": "01EpmbJkVkgS"
      },
      "execution_count": null,
      "outputs": []
    },
    {
      "cell_type": "code",
      "source": [
        "X = np.vstack((np.ones((X.shape[0], )), X.T)).T\n",
        "X_Eval = np.vstack((np.ones((X_Eval.shape[0], )), X_Eval.T)).T"
      ],
      "metadata": {
        "id": "7ZLWLpHBthzK"
      },
      "execution_count": null,
      "outputs": []
    },
    {
      "cell_type": "code",
      "source": [
        "def sigmoid(z):\n",
        "  return (1/(1 + np.exp(-z)))"
      ],
      "metadata": {
        "id": "Jqtwf7aLrnuj"
      },
      "execution_count": null,
      "outputs": []
    },
    {
      "cell_type": "code",
      "source": [
        "def lrmodel(X,Y, learning_rate, iterations):\n",
        "  #m is the number of rows in the training data set.\n",
        "  m = Y.size\n",
        "  theta = np.zeros((X.shape[1],1))\n",
        "  cost_list = []\n",
        "\n",
        "  for i in range(iterations):\n",
        "    y_pred = sigmoid(np.dot(X,theta))\n",
        "\n",
        "    cost = -(1/m) * np.sum( Y*np.log(y_pred) + (1-Y)*np.log(1-y_pred))\n",
        "\n",
        "    d_theta = (1/m)*np.dot((y_pred - Y).T,X)\n",
        "\n",
        "    theta = theta - learning_rate*d_theta.T\n",
        "\n",
        "    cost_list.append(cost)\n",
        "\n",
        "    if(i%(iterations/10) == 0):\n",
        "            print(\"cost after \", i, \"iteration is : \", cost)\n",
        "\n",
        "  return theta, cost_list"
      ],
      "metadata": {
        "id": "-6-PsJKGZKKW"
      },
      "execution_count": null,
      "outputs": []
    },
    {
      "cell_type": "code",
      "source": [
        "iterations = 100000\n",
        "learning_rate = 0.003\n",
        "theta, cost_list = lrmodel(X, Y, learning_rate = learning_rate, iterations = iterations)\n",
        "\n",
        "\n",
        "rng = np.arange(0, iterations)\n",
        "plt.title(\"Line graph\")\n",
        "plt.plot(rng,cost_list,color=\"red\")"
      ],
      "metadata": {
        "colab": {
          "base_uri": "https://localhost:8080/",
          "height": 483
        },
        "id": "hzcF-C-z5cbh",
        "outputId": "861418ba-a41f-40c5-86d9-f9ffdeb5967b"
      },
      "execution_count": null,
      "outputs": [
        {
          "output_type": "stream",
          "name": "stdout",
          "text": [
            "cost after  0 iteration is :  0.6931471805599454\n",
            "cost after  10000 iteration is :  0.46991923048907164\n",
            "cost after  20000 iteration is :  0.4522002223248149\n",
            "cost after  30000 iteration is :  0.44458032681788706\n",
            "cost after  40000 iteration is :  0.4395609805582429\n",
            "cost after  50000 iteration is :  0.43587448980172905\n",
            "cost after  60000 iteration is :  0.43307978720651336\n",
            "cost after  70000 iteration is :  0.43093162206359065\n",
            "cost after  80000 iteration is :  0.42926626245456706\n",
            "cost after  90000 iteration is :  0.4279669890299618\n"
          ]
        },
        {
          "output_type": "execute_result",
          "data": {
            "text/plain": [
              "[<matplotlib.lines.Line2D at 0x7f84b9e3a0d0>]"
            ]
          },
          "metadata": {},
          "execution_count": 43
        },
        {
          "output_type": "display_data",
          "data": {
            "image/png": "[encoded data removed]",
            "text/plain": [
              "<Figure size 432x288 with 1 Axes>"
            ]
          },
          "metadata": {
            "needs_background": "light"
          }
        }
      ]
    },
    {
      "cell_type": "code",
      "source": [
        "def accuracy(X, Y, theta):\n",
        "    \n",
        "    y_pred = sigmoid(np.dot(X, theta))\n",
        "    \n",
        "    y_pred = y_pred > 0.5\n",
        "    \n",
        "    y_pred = np.array(y_pred, dtype = 'int64')\n",
        "    \n",
        "    acc = (1 - np.sum(np.absolute(y_pred - Y))/Y.shape[0])*100\n",
        "    \n",
        "    print(\"Accuracy of the model is : \", round(acc, 2), \"%\")\n",
        "\n",
        "    return y_pred"
      ],
      "metadata": {
        "id": "RofwjcjF60Fi"
      },
      "execution_count": null,
      "outputs": []
    },
    {
      "cell_type": "code",
      "source": [
        "y_pred = accuracy(X_Eval, Y_Eval, theta)"
      ],
      "metadata": {
        "colab": {
          "base_uri": "https://localhost:8080/"
        },
        "id": "jhMZI6vO7VSv",
        "outputId": "0533b37a-f8fc-4b47-a953-507aa9b2c8b1"
      },
      "execution_count": null,
      "outputs": [
        {
          "output_type": "stream",
          "name": "stdout",
          "text": [
            "Accuracy of the model is :  76.52 %\n"
          ]
        }
      ]
    },
    {
      "cell_type": "code",
      "source": [
        ""
      ],
      "metadata": {
        "id": "YUdxUlTcP7KD"
      },
      "execution_count": null,
      "outputs": []
    }
  ]
}